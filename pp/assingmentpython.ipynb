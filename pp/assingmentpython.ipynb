{
 "cells": [
  {
   "cell_type": "code",
   "execution_count": 1,
   "id": "c55c721c",
   "metadata": {},
   "outputs": [
    {
     "name": "stdout",
     "output_type": "stream",
     "text": [
      " twinkle, twinkle, little star, \n",
      " \t how I wonder what you are! \n",
      " \t\t up above the world so high, \n",
      "\t\t like a diamond in the sky. \n",
      " twinkle,twinkle little star , \n",
      "\t how I wonder what you are\n"
     ]
    }
   ],
   "source": [
    "print (\" twinkle, twinkle, little star, \\n \\t how I wonder what you are! \\n \\t\\t up above the world so high, \\n\\t\\t like a diamond in the sky. \\n twinkle,twinkle little star , \\n\\t how I wonder what you are\")"
   ]
  },
  {
   "cell_type": "code",
   "execution_count": 9,
   "id": "35691745",
   "metadata": {},
   "outputs": [
    {
     "name": "stdout",
     "output_type": "stream",
     "text": [
      "3.8.8 (default, Apr 13 2021, 15:08:03) [MSC v.1916 64 bit (AMD64)]\n"
     ]
    }
   ],
   "source": [
    "import sys\n",
    "print(sys.version)"
   ]
  },
  {
   "cell_type": "code",
   "execution_count": 15,
   "id": "61ce4153",
   "metadata": {},
   "outputs": [
    {
     "ename": "SyntaxError",
     "evalue": "invalid syntax (<ipython-input-15-a158775d851f>, line 4)",
     "output_type": "error",
     "traceback": [
      "\u001b[1;36m  File \u001b[1;32m\"<ipython-input-15-a158775d851f>\"\u001b[1;36m, line \u001b[1;32m4\u001b[0m\n\u001b[1;33m    print ( %y-%m-%d , %h-%m-%s )\u001b[0m\n\u001b[1;37m            ^\u001b[0m\n\u001b[1;31mSyntaxError\u001b[0m\u001b[1;31m:\u001b[0m invalid syntax\n"
     ]
    }
   ],
   "source": [
    "from datetime import date\n",
    "today = datetime.datetime.now()\n",
    "print (\"current date and time :\")\n",
    "print ( %y-%m-%d , %h-%m-%s )"
   ]
  },
  {
   "cell_type": "code",
   "execution_count": null,
   "id": "d43d22aa",
   "metadata": {},
   "outputs": [],
   "source": [
    "PI= 3.14\n",
    "radius=float(input(\"please enter the radius of a circle \"))\n",
    "area= PI*radius*radius\n",
    "\n",
    "print (\"Area of a circle\" )"
   ]
  },
  {
   "cell_type": "code",
   "execution_count": null,
   "id": "4aa89d33",
   "metadata": {},
   "outputs": [],
   "source": [
    "firstname= input (\"input your first name:\")\n",
    "lastname= input (\"input your last name:\") \n",
    "print(\"hello\"+lastname+\"\"+firsttname)\n"
   ]
  },
  {
   "cell_type": "code",
   "execution_count": null,
   "id": "c2f291b6",
   "metadata": {},
   "outputs": [],
   "source": [
    "a= int(input(\"input your mid term marks\"))\n",
    "b= int(input(\"input your final term marks \"))\n",
    "sum = a+b\n",
    "print (\"your total marks\", sum)"
   ]
  },
  {
   "cell_type": "code",
   "execution_count": null,
   "id": "73eaba00",
   "metadata": {},
   "outputs": [],
   "source": [
    "\n",
    "sub1=int(input(\"Enter marks of the first subject: \"))\n",
    "sub2=int(input(\"Enter marks of the second subject: \"))\n",
    "sub3=int(input(\"Enter marks of the third subject: \"))\n",
    "sub4=int(input(\"Enter marks of the fourth subject: \"))\n",
    "sub5=int(input(\"Enter marks of the fifth subject: \"))\n",
    "avg=(sub1+sub2+sub3+sub4+sub4)/5\n",
    "if(avg>=90):\n",
    "    print(\"Grade: A\")\n",
    "elif(avg>=80&avg<90):\n",
    "    print(\"Grade: B\")\n",
    "elif(avg>=70&avg<80):\n",
    "    print(\"Grade: C\")\n",
    "elif(avg>=60&avg<70):\n",
    "    print(\"Grade: D\")\n",
    "else:\n",
    "    print(\"Grade: F\")"
   ]
  },
  {
   "cell_type": "code",
   "execution_count": null,
   "id": "93a30bb1",
   "metadata": {},
   "outputs": [],
   "source": [
    "num = int(input(\"Enter a number: \"))\n",
    "if (num % 2) == 0:\n",
    "print(\"{0} is Even number\". format(num))\n",
    "else:\n",
    "print(\"{0} is Odd number\". format(num))"
   ]
  },
  {
   "cell_type": "code",
   "execution_count": null,
   "id": "57764894",
   "metadata": {},
   "outputs": [],
   "source": [
    "lst = [1,2,3,4,5,6]\n",
    "print(\"List elements: \",lst)\n",
    "print(\"Length of the list:\",len(lst))"
   ]
  },
  {
   "cell_type": "code",
   "execution_count": null,
   "id": "efe98c80",
   "metadata": {},
   "outputs": [],
   "source": [
    "a = [4,5,89,5,33,2244,56]\n",
    "a_total = sum(a)"
   ]
  },
  {
   "cell_type": "code",
   "execution_count": 13,
   "id": "c1b557cc",
   "metadata": {},
   "outputs": [
    {
     "ename": "IndentationError",
     "evalue": "unindent does not match any outer indentation level (<tokenize>, line 7)",
     "output_type": "error",
     "traceback": [
      "\u001b[1;36m  File \u001b[1;32m\"<tokenize>\"\u001b[1;36m, line \u001b[1;32m7\u001b[0m\n\u001b[1;33m    (max_num_in_list([1,3,5,7,9,10]))\u001b[0m\n\u001b[1;37m    ^\u001b[0m\n\u001b[1;31mIndentationError\u001b[0m\u001b[1;31m:\u001b[0m unindent does not match any outer indentation level\n"
     ]
    }
   ],
   "source": [
    "def max_num_in_a_list (list):\n",
    " max = list [10]\n",
    "for a in list:\n",
    "    if a>max:\n",
    "    max=a\n",
    "    return max\n",
    "  int(max_num_in_list([1,3,5,7,9,10]))"
   ]
  },
  {
   "cell_type": "code",
   "execution_count": 14,
   "id": "88b7813b",
   "metadata": {},
   "outputs": [
    {
     "name": "stdout",
     "output_type": "stream",
     "text": [
      "1\n",
      "1\n",
      "2\n",
      "3\n"
     ]
    }
   ],
   "source": [
    " a= [1, 1, 2, 3, 5, 8, 13, 21, 34, 55, 89]\n",
    "for i in a:\n",
    "    if i < 5:\n",
    "        print(i)\n"
   ]
  },
  {
   "cell_type": "code",
   "execution_count": null,
   "id": "baed624f",
   "metadata": {},
   "outputs": [],
   "source": []
  }
 ],
 "metadata": {
  "kernelspec": {
   "display_name": "Python 3",
   "language": "python",
   "name": "python3"
  },
  "language_info": {
   "codemirror_mode": {
    "name": "ipython",
    "version": 3
   },
   "file_extension": ".py",
   "mimetype": "text/x-python",
   "name": "python",
   "nbconvert_exporter": "python",
   "pygments_lexer": "ipython3",
   "version": "3.8.8"
  }
 },
 "nbformat": 4,
 "nbformat_minor": 5
}
